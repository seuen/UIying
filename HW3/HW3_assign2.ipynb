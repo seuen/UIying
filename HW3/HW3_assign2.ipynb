{
 "cells": [
  {
   "cell_type": "code",
   "execution_count": 1,
   "metadata": {
    "collapsed": false
   },
   "outputs": [
    {
     "name": "stdout",
     "output_type": "stream",
     "text": [
      "Populating the interactive namespace from numpy and matplotlib\n"
     ]
    }
   ],
   "source": [
    "import os\n",
    "import sys\n",
    "import numpy as np\n",
    "import pylab as pl\n",
    "import json\n",
    "import os\n",
    "\n",
    "# optional for use\n",
    "# s = json.load( open(os.getenv(\"PUI2015\")+\"/fbb_matplotlibrc.json\") )\n",
    "# pl.rcParams.update(s)\n",
    "%pylab inline\n"
   ]
  },
  {
   "cell_type": "markdown",
   "metadata": {},
   "source": [
    "### NULL HYPOTHESIS: the % of former prisoners employed after release is the same or lower for candidates who participated in the program as for the control group, significance level of 0.05\n",
    "\n",
    "### we use the values for where the former inmate was or was not ever employed in a CEO transitional job 3 years after release (4th row of the table)\n",
    "\n",
    "### $H_0: P_0 - P_1 \\geq    0$\n",
    "    \n",
    "### $H_a: P_0 - P_1 < 0 $ \n",
    "    \n",
    "    \n",
    "### $\\alpha = 0.05$    \n",
    "\n",
    "### $P_0=0.521, P_1=0.533$"
   ]
  },
  {
   "cell_type": "code",
   "execution_count": 17,
   "metadata": {
    "collapsed": false
   },
   "outputs": [
    {
     "name": "stdout",
     "output_type": "stream",
     "text": [
      "Sample proportion is 0.527955806783\n",
      "Standard deviation of sample 0.0324224126866\n",
      "Z-score is 0.370114343926\n",
      "P_0 =  0.521 , n_o =  409.0 , n_1 =  564.0 , stdev =  0.032422\n",
      "p-value 0.36 is larger than or equal to 0.05\n",
      "Do not reject Null Hypothesis\n"
     ]
    }
   ],
   "source": [
    "alpha = 0.05\n",
    "p_0 = 0.521\n",
    "p_1 = 0.533\n",
    "\n",
    "n_0 = 409\n",
    "n_1 = 564\n",
    "\n",
    "Nt_0 = p_0*n_0\n",
    "Nt_1 = p_1*n_1\n",
    "\n",
    "# sample proportion\n",
    "sprop = (p_0*n_0 + p_1*n_1)/(n_1+n_0)\n",
    "\n",
    "sp_stdev = lambda p,n:np.sqrt(p*(1-p)/n[0]+p*(1-p)/n[1])\n",
    "sp_stdev_3y = sp_stdev((Nt_0+Nt_1)/(n_0+n_1),[n_0,n_1])\n",
    "print 'Sample proportion is', sprop \n",
    "print 'Standard deviation of sample', sp_stdev_3y\n",
    "\n",
    "# z-score function\n",
    "zscore = lambda p0, p1, s: (p0-p1)/s\n",
    "z_3y = zscore(p_1,p_0,sp_stdev_3y)\n",
    "print 'Z-score is',z_3y\n",
    "\n",
    "print 'P_0 = ', round(P_0,6), ', n_o = ', round(n_0,6), ', n_1 = ', round(n_1,6), ', stdev = ', round(sp_stdev_3y,6)\n",
    "\n",
    "# P(Z<z) ~ 0.644\n",
    "p_3y = 1 - 0.644\n",
    "\n",
    "if p_3y > alpha:\n",
    "    print 'p-value %.2f is larger than or equal to %.2f' %(p_3y, alpha)\n",
    "    print 'Do not reject Null Hypothesis'\n",
    "else:\n",
    "    print 'p-value %.2f is less than %.2f' %(p_3y, alpha)\n",
    "    print 'Please reject Null Hypothesis'\n"
   ]
  },
  {
   "cell_type": "markdown",
   "metadata": {},
   "source": [
    "## Chisquare statistics\n",
    "### Null Hypothesis: the % of the former inmates with postprogram unsubsidized employment for more than 6 weeks is the same or lower for participants of the program than the control group, at the significance lelvel of 0.05"
   ]
  },
  {
   "cell_type": "markdown",
   "metadata": {},
   "source": [
    "|employed in subsadized job |     employed   | not employes   |         total Number        |\n",
    "|---------------------------|----------------|------------------|---------------------------|\n",
    "| test sample               |  14.7*5.46   |  85.3*5.64    | 564                       |\n",
    "| control sample            |  11.9*4.09   |   88.1*4.09   | 409                       |\n",
    "| total                     |   115.79  |   857.21   | 973                       |"
   ]
  },
  {
   "cell_type": "code",
   "execution_count": 14,
   "metadata": {
    "collapsed": false
   },
   "outputs": [
    {
     "name": "stdout",
     "output_type": "stream",
     "text": [
      "1.77285424762\n"
     ]
    }
   ],
   "source": [
    "Ntot = 973\n",
    "expected = 564*409*115.79*857.21\n",
    "sample_values = [[14.7*5.64, 85.3*5.64],[11.9*4.09,88.1*4.09]]\n",
    "\n",
    "chisqstat = lambda N, values, expect:N*((values[0][0]*values[1][1]-values[0][1]*values[1][0])**2)/(expect)\n",
    "print chisqstat(Ntot, sample_values, expected)"
   ]
  },
  {
   "cell_type": "markdown",
   "metadata": {},
   "source": [
    "### Stats report:\n",
    "With critical of 3.84 of chisqured test value(with 1 degree of freedom), it stands for confidence interval of 0.05. The test result suggests a p-value between 0.1 and 0.25, which indicates we should not reject the null hypothesis.\n"
   ]
  },
  {
   "cell_type": "code",
   "execution_count": null,
   "metadata": {
    "collapsed": true
   },
   "outputs": [],
   "source": []
  }
 ],
 "metadata": {
  "kernelspec": {
   "display_name": "Python 2",
   "language": "python",
   "name": "python2"
  },
  "language_info": {
   "codemirror_mode": {
    "name": "ipython",
    "version": 2
   },
   "file_extension": ".py",
   "mimetype": "text/x-python",
   "name": "python",
   "nbconvert_exporter": "python",
   "pygments_lexer": "ipython2",
   "version": "2.7.10"
  }
 },
 "nbformat": 4,
 "nbformat_minor": 0
}
